{
  "nbformat": 4,
  "nbformat_minor": 0,
  "metadata": {
    "colab": {
      "name": "MLH-Daily-Challenge-password-encryptor.ipynb",
      "provenance": [],
      "authorship_tag": "ABX9TyPiVEXuSbCxyswVfAx+8TaA",
      "include_colab_link": true
    },
    "kernelspec": {
      "name": "python3",
      "display_name": "Python 3"
    }
  },
  "cells": [
    {
      "cell_type": "markdown",
      "metadata": {
        "id": "view-in-github",
        "colab_type": "text"
      },
      "source": [
        "<a href=\"https://colab.research.google.com/github/mriceflame/Password-Encryptor-Descryptor/blob/main/MLH_Daily_Challenge_password_encryptor.ipynb\" target=\"_parent\"><img src=\"https://colab.research.google.com/assets/colab-badge.svg\" alt=\"Open In Colab\"/></a>"
      ]
    },
    {
      "cell_type": "code",
      "metadata": {
        "colab": {
          "base_uri": "https://localhost:8080/"
        },
        "id": "Jj16tLhUvqQW",
        "outputId": "407c09cc-1408-465c-f770-6fead4fa6e24"
      },
      "source": [
        "!pip install pycrypto"
      ],
      "execution_count": 29,
      "outputs": [
        {
          "output_type": "stream",
          "text": [
            "Requirement already satisfied: pycrypto in /usr/local/lib/python3.6/dist-packages (2.6.1)\n"
          ],
          "name": "stdout"
        }
      ]
    },
    {
      "cell_type": "code",
      "metadata": {
        "colab": {
          "base_uri": "https://localhost:8080/"
        },
        "id": "NcXt4pqDv9fW",
        "outputId": "9b7e2b6e-1339-42a9-d95d-e5e6f2214908"
      },
      "source": [
        "from Crypto.Cipher import AES #importring AES\r\n",
        "from os import urandom #importing OS\r\n",
        "import binascii\r\n",
        "\r\n",
        "key = urandom(32)\r\n",
        "iv = urandom(16) \r\n",
        "print(key,iv)\r\n"
      ],
      "execution_count": 30,
      "outputs": [
        {
          "output_type": "stream",
          "text": [
            "b'\\x04\\x9c\\xe56ZET\\x08\\\\\\x13\\xcdX\\xb5\\xd1\\xb4\\x07\\xac\\xf2t\\xd1\\xa9?\\x8b\\xac\\x1b\\x7f\\xe5t\\x04\\xc5\\x9d\"' b'$=v\\x85\\x16\\x0e\\xf9\\xf9]\\x90\\xc9!#\\xca\\x16\\x08'\n"
          ],
          "name": "stdout"
        }
      ]
    },
    {
      "cell_type": "code",
      "metadata": {
        "colab": {
          "base_uri": "https://localhost:8080/"
        },
        "id": "HwD5rHAxwDE5",
        "outputId": "8b24f6f4-b732-45dc-c3c2-0d6680f056ba"
      },
      "source": [
        "############################# ENCRYPTION #######################################\r\n",
        "encrypterObj = AES.new(key, AES.MODE_ECB, iv) \r\n",
        "encryptedText = encrypterObj.encrypt(('useDemo password'.encode()))\r\n",
        "\r\n",
        "\r\n",
        "print('Encrypted Password : ',encryptedText)"
      ],
      "execution_count": 31,
      "outputs": [
        {
          "output_type": "stream",
          "text": [
            "Encrypted Password :  b'M\\xb9\\xd5\\xa8\\x9c\\xc2\\xb2\\xb1\\xa8\\xc7\\xc9LKX\\xba\\xbb'\n"
          ],
          "name": "stdout"
        }
      ]
    },
    {
      "cell_type": "code",
      "metadata": {
        "colab": {
          "base_uri": "https://localhost:8080/"
        },
        "id": "vg5eA994wF4J",
        "outputId": "fc089ae9-5ab8-4300-bdaf-cb9c5d93fed2"
      },
      "source": [
        "############################# DECRYPTION #######################################\r\n",
        "decrypterObj = AES.new(key, AES.MODE_ECB, iv)\r\n",
        "decryptedText = decrypterObj.decrypt(encryptedText)\r\n",
        "decryptedPassword = decryptedText.decode('UTF-8')\r\n",
        "print('Decrypted message : ',decryptedText.decode())\r\n",
        "\r\n"
      ],
      "execution_count": 40,
      "outputs": [
        {
          "output_type": "stream",
          "text": [
            "Decrypted message :  useDemo password\n"
          ],
          "name": "stdout"
        }
      ]
    },
    {
      "cell_type": "code",
      "metadata": {
        "colab": {
          "base_uri": "https://localhost:8080/"
        },
        "id": "70phYWSkwIlR",
        "outputId": "f2ff7998-0894-4fcd-dce6-fb6980aefbfb"
      },
      "source": [
        "if ('useDemo password' == decryptedPassword):\r\n",
        "  print('Password Encrypted and Decrypted Successfully')\r\n",
        "else: print('not same')"
      ],
      "execution_count": 41,
      "outputs": [
        {
          "output_type": "stream",
          "text": [
            "Password Encrypted and Decrypted Successfully\n"
          ],
          "name": "stdout"
        }
      ]
    }
  ]
}